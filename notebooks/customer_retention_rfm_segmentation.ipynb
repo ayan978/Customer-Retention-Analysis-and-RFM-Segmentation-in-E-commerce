{
 "cells": [
  {
   "cell_type": "markdown",
   "id": "42c36724-a777-4943-8864-217a9c0a7b09",
   "metadata": {},
   "source": [
    "# Customer Retention Analysis and RFM Segmentation in E-commerce"
   ]
  },
  {
   "cell_type": "markdown",
   "id": "710554e2-27c2-499e-87b3-c603eb5756ad",
   "metadata": {},
   "source": [
    "## Dataset Overview & Intent\n",
    "- **Source:** Kaggle (E-commerce Purchase History from Electronics Store), provider: REES46 Marketing Platform  \n",
    "- **Scale:** ~2.6M purchase events; multiple items per `order_id`  \n",
    "- **Goal:** Understand repeat purchasing behavior and customer value concentration; build RFM-based segments for actionable retention strategies  "
   ]
  },
  {
   "cell_type": "markdown",
   "id": "540eeadb-2634-43ac-b48d-f187f9ac5a02",
   "metadata": {},
   "source": [
    "## Objectives\n",
    "1) Quantify customer retention patterns across time using cohort analysis  \n",
    "2) Identify high-value customers through RFM (Recency, Frequency, Monetary) analytics  \n",
    "3) Segment customers into actionable groups to inform targeted retention and marketing strategies  "
   ]
  },
  {
   "cell_type": "markdown",
   "id": "4c2cef22-9143-4bfb-a42b-22e7a2535ac7",
   "metadata": {},
   "source": [
    "## Import Required Libraries\n"
   ]
  },
  {
   "cell_type": "code",
   "execution_count": 1,
   "id": "10d4e1c8-c128-4d44-8abd-6a3686ee83dc",
   "metadata": {},
   "outputs": [],
   "source": [
    "import numpy as np\n",
    "import pandas as pd\n",
    "import matplotlib.pyplot as plt\n",
    "import seaborn as sns\n",
    "\n",
    "pd.set_option(\"display.max_columns\", 100)\n",
    "pd.set_option(\"display.width\", 120)"
   ]
  },
  {
   "cell_type": "markdown",
   "id": "661bb5c8-bebc-421c-b6c7-fa102674e70f",
   "metadata": {},
   "source": [
    "## Load Dataset"
   ]
  },
  {
   "cell_type": "code",
   "execution_count": 2,
   "id": "29d4735e-bd16-4239-9604-7e2b7116a7d8",
   "metadata": {},
   "outputs": [],
   "source": [
    "DATA_PATH = \"../data/kz.csv\"  \n",
    "df = pd.read_csv(DATA_PATH, low_memory=False)"
   ]
  },
  {
   "cell_type": "markdown",
   "id": "a71cb37a-5946-42f3-b93d-e2da470ce49a",
   "metadata": {},
   "source": [
    "## Quick Preview"
   ]
  },
  {
   "cell_type": "code",
   "execution_count": 3,
   "id": "e700a2c3-ee93-46da-b06f-ad645e480bb5",
   "metadata": {},
   "outputs": [
    {
     "data": {
      "text/html": [
       "<div>\n",
       "<style scoped>\n",
       "    .dataframe tbody tr th:only-of-type {\n",
       "        vertical-align: middle;\n",
       "    }\n",
       "\n",
       "    .dataframe tbody tr th {\n",
       "        vertical-align: top;\n",
       "    }\n",
       "\n",
       "    .dataframe thead th {\n",
       "        text-align: right;\n",
       "    }\n",
       "</style>\n",
       "<table border=\"1\" class=\"dataframe\">\n",
       "  <thead>\n",
       "    <tr style=\"text-align: right;\">\n",
       "      <th></th>\n",
       "      <th>event_time</th>\n",
       "      <th>order_id</th>\n",
       "      <th>product_id</th>\n",
       "      <th>category_id</th>\n",
       "      <th>category_code</th>\n",
       "      <th>brand</th>\n",
       "      <th>price</th>\n",
       "      <th>user_id</th>\n",
       "    </tr>\n",
       "  </thead>\n",
       "  <tbody>\n",
       "    <tr>\n",
       "      <th>0</th>\n",
       "      <td>2020-04-24 11:50:39 UTC</td>\n",
       "      <td>2294359932054536986</td>\n",
       "      <td>1515966223509089906</td>\n",
       "      <td>2.268105e+18</td>\n",
       "      <td>electronics.tablet</td>\n",
       "      <td>samsung</td>\n",
       "      <td>162.01</td>\n",
       "      <td>1.515916e+18</td>\n",
       "    </tr>\n",
       "    <tr>\n",
       "      <th>1</th>\n",
       "      <td>2020-04-24 11:50:39 UTC</td>\n",
       "      <td>2294359932054536986</td>\n",
       "      <td>1515966223509089906</td>\n",
       "      <td>2.268105e+18</td>\n",
       "      <td>electronics.tablet</td>\n",
       "      <td>samsung</td>\n",
       "      <td>162.01</td>\n",
       "      <td>1.515916e+18</td>\n",
       "    </tr>\n",
       "    <tr>\n",
       "      <th>2</th>\n",
       "      <td>2020-04-24 14:37:43 UTC</td>\n",
       "      <td>2294444024058086220</td>\n",
       "      <td>2273948319057183658</td>\n",
       "      <td>2.268105e+18</td>\n",
       "      <td>electronics.audio.headphone</td>\n",
       "      <td>huawei</td>\n",
       "      <td>77.52</td>\n",
       "      <td>1.515916e+18</td>\n",
       "    </tr>\n",
       "    <tr>\n",
       "      <th>3</th>\n",
       "      <td>2020-04-24 14:37:43 UTC</td>\n",
       "      <td>2294444024058086220</td>\n",
       "      <td>2273948319057183658</td>\n",
       "      <td>2.268105e+18</td>\n",
       "      <td>electronics.audio.headphone</td>\n",
       "      <td>huawei</td>\n",
       "      <td>77.52</td>\n",
       "      <td>1.515916e+18</td>\n",
       "    </tr>\n",
       "    <tr>\n",
       "      <th>4</th>\n",
       "      <td>2020-04-24 19:16:21 UTC</td>\n",
       "      <td>2294584263154074236</td>\n",
       "      <td>2273948316817424439</td>\n",
       "      <td>2.268105e+18</td>\n",
       "      <td>NaN</td>\n",
       "      <td>karcher</td>\n",
       "      <td>217.57</td>\n",
       "      <td>1.515916e+18</td>\n",
       "    </tr>\n",
       "  </tbody>\n",
       "</table>\n",
       "</div>"
      ],
      "text/plain": [
       "                event_time             order_id           product_id   category_id                category_code  \\\n",
       "0  2020-04-24 11:50:39 UTC  2294359932054536986  1515966223509089906  2.268105e+18           electronics.tablet   \n",
       "1  2020-04-24 11:50:39 UTC  2294359932054536986  1515966223509089906  2.268105e+18           electronics.tablet   \n",
       "2  2020-04-24 14:37:43 UTC  2294444024058086220  2273948319057183658  2.268105e+18  electronics.audio.headphone   \n",
       "3  2020-04-24 14:37:43 UTC  2294444024058086220  2273948319057183658  2.268105e+18  electronics.audio.headphone   \n",
       "4  2020-04-24 19:16:21 UTC  2294584263154074236  2273948316817424439  2.268105e+18                          NaN   \n",
       "\n",
       "     brand   price       user_id  \n",
       "0  samsung  162.01  1.515916e+18  \n",
       "1  samsung  162.01  1.515916e+18  \n",
       "2   huawei   77.52  1.515916e+18  \n",
       "3   huawei   77.52  1.515916e+18  \n",
       "4  karcher  217.57  1.515916e+18  "
      ]
     },
     "execution_count": 3,
     "metadata": {},
     "output_type": "execute_result"
    }
   ],
   "source": [
    "df.head()"
   ]
  },
  {
   "cell_type": "markdown",
   "id": "a9c9ad51-7485-4ec8-a386-b38337146047",
   "metadata": {},
   "source": [
    "## Dataset Info"
   ]
  },
  {
   "cell_type": "code",
   "execution_count": 4,
   "id": "d85e6910-5e86-45bd-b2ed-4c1e60cfddd2",
   "metadata": {},
   "outputs": [
    {
     "name": "stdout",
     "output_type": "stream",
     "text": [
      "<class 'pandas.core.frame.DataFrame'>\n",
      "RangeIndex: 2633521 entries, 0 to 2633520\n",
      "Data columns (total 8 columns):\n",
      " #   Column         Dtype  \n",
      "---  ------         -----  \n",
      " 0   event_time     object \n",
      " 1   order_id       int64  \n",
      " 2   product_id     int64  \n",
      " 3   category_id    float64\n",
      " 4   category_code  object \n",
      " 5   brand          object \n",
      " 6   price          float64\n",
      " 7   user_id        float64\n",
      "dtypes: float64(3), int64(2), object(3)\n",
      "memory usage: 160.7+ MB\n"
     ]
    }
   ],
   "source": [
    "df.info()"
   ]
  },
  {
   "cell_type": "markdown",
   "id": "09e0f27e-ad52-4438-a227-e1e04f596da6",
   "metadata": {},
   "source": [
    "**Observation:** `event_time` is `object`; all identifiers are numeric (`order_id`, `product_id` as int; `user_id`, `category_id` as float). IDs should be strings to prevent precision loss/scientific notation. `event_time` should be parsed as datetime (UTC)."
   ]
  },
  {
   "cell_type": "markdown",
   "id": "410497d9-f09c-4e8e-992c-53baf37eccc9",
   "metadata": {},
   "source": [
    "## Load the dataset with Explicit Dtypes and Parsed Timestamps\n"
   ]
  },
  {
   "cell_type": "code",
   "execution_count": 5,
   "id": "e2405de9-b4d9-46b3-a341-e2d95504973e",
   "metadata": {},
   "outputs": [],
   "source": [
    "dtype_map = {\n",
    "    \"order_id\": \"string\",\n",
    "    \"user_id\": \"string\",\n",
    "    \"product_id\": \"string\",\n",
    "    \"category_id\": \"string\",\n",
    "    \"category_code\": \"string\",\n",
    "    \"brand\": \"string\",\n",
    "    \"price\": \"float32\",\n",
    "}\n",
    "\n",
    "df = pd.read_csv(\n",
    "    DATA_PATH,\n",
    "    dtype=dtype_map,\n",
    "    parse_dates=[\"event_time\"],\n",
    "    low_memory=False\n",
    ")\n",
    "\n",
    "df[\"event_time\"] = pd.to_datetime(df[\"event_time\"], utc=True, errors=\"coerce\")"
   ]
  },
  {
   "cell_type": "markdown",
   "id": "88ab4e02-80f4-42b5-a896-f6f4707312ad",
   "metadata": {},
   "source": [
    "## Dataset Info After Schema Definition"
   ]
  },
  {
   "cell_type": "code",
   "execution_count": 6,
   "id": "4d4af6d4-4a1d-4d46-8d78-ebe643f2b55c",
   "metadata": {
    "scrolled": true
   },
   "outputs": [
    {
     "name": "stdout",
     "output_type": "stream",
     "text": [
      "<class 'pandas.core.frame.DataFrame'>\n",
      "RangeIndex: 2633521 entries, 0 to 2633520\n",
      "Data columns (total 8 columns):\n",
      " #   Column         Dtype              \n",
      "---  ------         -----              \n",
      " 0   event_time     datetime64[ns, UTC]\n",
      " 1   order_id       string             \n",
      " 2   product_id     string             \n",
      " 3   category_id    string             \n",
      " 4   category_code  string             \n",
      " 5   brand          string             \n",
      " 6   price          float32            \n",
      " 7   user_id        string             \n",
      "dtypes: datetime64[ns, UTC](1), float32(1), string(6)\n",
      "memory usage: 150.7 MB\n"
     ]
    }
   ],
   "source": [
    "df.info()"
   ]
  },
  {
   "cell_type": "markdown",
   "id": "76d3e6b5-178d-4c22-8c0e-f82e6ed4e01b",
   "metadata": {},
   "source": [
    "## Dataset Dimensions"
   ]
  },
  {
   "cell_type": "code",
   "execution_count": 7,
   "id": "c675ef3f-28a2-4531-9dd6-993a559d1740",
   "metadata": {},
   "outputs": [
    {
     "data": {
      "text/plain": [
       "(2633521, 8)"
      ]
     },
     "execution_count": 7,
     "metadata": {},
     "output_type": "execute_result"
    }
   ],
   "source": [
    "df.shape"
   ]
  },
  {
   "cell_type": "markdown",
   "id": "1d1bd175-f247-413e-9846-23c254cdaabc",
   "metadata": {},
   "source": [
    "## Date Coverage"
   ]
  },
  {
   "cell_type": "code",
   "execution_count": 8,
   "id": "2a7b308c-226b-435b-b65a-65da3c02088d",
   "metadata": {
    "scrolled": true
   },
   "outputs": [
    {
     "data": {
      "text/plain": [
       "(Timestamp('1970-01-01 00:33:40+0000', tz='UTC'),\n",
       " Timestamp('2020-11-21 10:10:30+0000', tz='UTC'))"
      ]
     },
     "execution_count": 8,
     "metadata": {},
     "output_type": "execute_result"
    }
   ],
   "source": [
    "df[\"event_time\"].min(), df[\"event_time\"].max()"
   ]
  },
  {
   "cell_type": "markdown",
   "id": "523008d4-788f-4cdd-82c2-cf7e5d0c8edd",
   "metadata": {},
   "source": [
    "**Observation:** Minimum timestamp shows 1970-01-01, indicating invalid entries"
   ]
  },
  {
   "cell_type": "markdown",
   "id": "126024d6-bcd4-417c-8f7d-f11a255c8434",
   "metadata": {},
   "source": [
    "## Validate Event Time"
   ]
  },
  {
   "cell_type": "code",
   "execution_count": 9,
   "id": "47750e5e-a459-4904-935f-6eb19e6c58dd",
   "metadata": {},
   "outputs": [
    {
     "name": "stdout",
     "output_type": "stream",
     "text": [
      "Rows before 2020-01-01: 19631\n",
      "Rows with NaT: 0\n"
     ]
    },
    {
     "data": {
      "text/plain": [
       "28813   1970-01-01 00:33:40+00:00\n",
       "28814   1970-01-01 00:33:40+00:00\n",
       "28815   1970-01-01 00:33:40+00:00\n",
       "28816   1970-01-01 00:33:40+00:00\n",
       "28817   1970-01-01 00:33:40+00:00\n",
       "Name: event_time, dtype: datetime64[ns, UTC]"
      ]
     },
     "execution_count": 9,
     "metadata": {},
     "output_type": "execute_result"
    }
   ],
   "source": [
    "before_2020 = (df[\"event_time\"] < \"2020-01-01\").sum()\n",
    "nat_count   = df[\"event_time\"].isna().sum()\n",
    "print(\"Rows before 2020-01-01:\", before_2020)\n",
    "print(\"Rows with NaT:\", nat_count)\n",
    "\n",
    "df.loc[df[\"event_time\"] < \"2020-01-01\", \"event_time\"].head()"
   ]
  },
  {
   "cell_type": "markdown",
   "id": "fd491975-3231-4c6a-8335-863e7de48fee",
   "metadata": {},
   "source": [
    "## Filter event_time to 2020"
   ]
  },
  {
   "cell_type": "code",
   "execution_count": 11,
   "id": "76f9a8d7-8cef-49cc-ac31-d1f19f8609cc",
   "metadata": {},
   "outputs": [
    {
     "name": "stdout",
     "output_type": "stream",
     "text": [
      "Removed rows: 19631 (0.75%)\n",
      "Rows after clean: 2613890\n"
     ]
    }
   ],
   "source": [
    "total_before = len(df)\n",
    "mask_valid = (df[\"event_time\"] >= \"2020-01-01\") & (df[\"event_time\"] <= \"2020-12-31\")\n",
    "removed = (~mask_valid).sum()\n",
    "df = df.loc[mask_valid].reset_index(drop=True)\n",
    "\n",
    "print(\"Removed rows:\", removed, f\"({removed/total_before:.2%})\")\n",
    "print(\"Rows after clean:\", len(df))"
   ]
  },
  {
   "cell_type": "markdown",
   "id": "21485665-107c-4e0e-971b-de831f72e48d",
   "metadata": {},
   "source": [
    "## Date coverage after filtering"
   ]
  },
  {
   "cell_type": "code",
   "execution_count": 12,
   "id": "4e1b774c-1e59-41ae-a540-cff5a8212065",
   "metadata": {},
   "outputs": [
    {
     "data": {
      "text/plain": [
       "(Timestamp('2020-01-05 03:26:46+0000', tz='UTC'),\n",
       " Timestamp('2020-11-21 10:10:30+0000', tz='UTC'))"
      ]
     },
     "execution_count": 12,
     "metadata": {},
     "output_type": "execute_result"
    }
   ],
   "source": [
    "df[\"event_time\"].min(), df[\"event_time\"].max()"
   ]
  },
  {
   "cell_type": "markdown",
   "id": "edb7a258-7472-4992-bd27-a32324239ed7",
   "metadata": {},
   "source": [
    "## Missing values"
   ]
  },
  {
   "cell_type": "code",
   "execution_count": 14,
   "id": "8985583b-51d6-4bdf-b13c-f721e1266bb4",
   "metadata": {},
   "outputs": [
    {
     "data": {
      "text/plain": [
       "user_id          78.47\n",
       "category_code    23.23\n",
       "brand            19.18\n",
       "category_id      16.37\n",
       "price            16.37\n",
       "event_time        0.00\n",
       "order_id          0.00\n",
       "product_id        0.00\n",
       "dtype: float64"
      ]
     },
     "execution_count": 14,
     "metadata": {},
     "output_type": "execute_result"
    }
   ],
   "source": [
    "na_pct = (\n",
    "    df.isna()\n",
    "      .mean()\n",
    "      .mul(100)\n",
    "      .round(2)\n",
    "      .sort_values(ascending=False)\n",
    ")\n",
    "na_pct"
   ]
  },
  {
   "cell_type": "markdown",
   "id": "eb2d067e-28b6-4b62-935a-ae369cdd1be6",
   "metadata": {},
   "source": [
    "**Observation:** The dataset shows substantial missingness, with user_id absent in 78.47% of rows. Notable gaps are also present in category_code (23.23%), brand (19.18%), and both category_id and price (16.37% each). In contrast, event_time is fully complete, ensuring reliable temporal analysis."
   ]
  },
  {
   "cell_type": "markdown",
   "id": "0cc18e16-eae4-4f48-94ca-932854dfc448",
   "metadata": {},
   "source": [
    "## Assess user_id availability"
   ]
  },
  {
   "cell_type": "code",
   "execution_count": 17,
   "id": "d8f98f5e-1164-4c81-9e88-1d38c31e6f05",
   "metadata": {},
   "outputs": [
    {
     "name": "stdout",
     "output_type": "stream",
     "text": [
      "Rows with user_id: 562862 (21.53%)\n",
      "Unique users: 233575\n",
      "Orders with user_id: 399750\n"
     ]
    }
   ],
   "source": [
    "rows_total = len(df)\n",
    "rows_with_uid = df[\"user_id\"].notna().sum()\n",
    "unique_users  = df.loc[df[\"user_id\"].notna(), \"user_id\"].nunique()\n",
    "orders_with_uid = df.loc[df[\"user_id\"].notna(), \"order_id\"].nunique()\n",
    "\n",
    "print(\"Rows with user_id:\", rows_with_uid, f\"({rows_with_uid/rows_total:.2%})\")\n",
    "print(\"Unique users:\", unique_users)\n",
    "print(\"Orders with user_id:\", orders_with_uid)"
   ]
  },
  {
   "cell_type": "markdown",
   "id": "5ff943f8-5e8c-4f20-9235-2ca4fc933273",
   "metadata": {},
   "source": [
    "## Subset transactions with valid user_id"
   ]
  },
  {
   "cell_type": "code",
   "execution_count": 9,
   "id": "749413af-4b25-4f71-99c0-24fd859da4d9",
   "metadata": {},
   "outputs": [
    {
     "data": {
      "text/plain": [
       "(564169, 233834, 400538)"
      ]
     },
     "execution_count": 9,
     "metadata": {},
     "output_type": "execute_result"
    }
   ],
   "source": [
    "df_uid = df[df[\"user_id\"].notna()].copy()\n",
    "len(df_uid), df_uid[\"user_id\"].nunique(), df_uid[\"order_id\"].nunique()"
   ]
  },
  {
   "cell_type": "markdown",
   "id": "c05416e3-2d9e-457c-90be-f0fbe12105e4",
   "metadata": {},
   "source": [
    "**Observation:** After restricting to transactions with valid user_id, the dataset contains 564,169 rows, representing 233,834 unique customers across 400,538 orders.\r\n"
   ]
  },
  {
   "cell_type": "markdown",
   "id": "b38d638d-21a7-4108-a05c-dbb630885b12",
   "metadata": {},
   "source": [
    "## Price sanity check (user_id subset)"
   ]
  },
  {
   "cell_type": "code",
   "execution_count": 10,
   "id": "e2300499-9d39-4875-aea7-f11d27dd8324",
   "metadata": {},
   "outputs": [
    {
     "name": "stdout",
     "output_type": "stream",
     "text": [
      "Null price: 0\n",
      "Non-positive price (<=0): 39\n"
     ]
    },
    {
     "data": {
      "text/plain": [
       "count    564169.000000\n",
       "mean        208.269287\n",
       "std         304.536530\n",
       "min           0.000000\n",
       "50%          87.940002\n",
       "75%         277.750000\n",
       "90%         543.960022\n",
       "95%         856.229980\n",
       "99%        1385.390015\n",
       "max       18328.679688\n",
       "Name: price, dtype: float64"
      ]
     },
     "execution_count": 10,
     "metadata": {},
     "output_type": "execute_result"
    }
   ],
   "source": [
    "null_price   = df_uid[\"price\"].isna().sum()\n",
    "non_positive = (df_uid[\"price\"] <= 0).sum()\n",
    "summary      = df_uid[\"price\"].describe(percentiles=[.5, .75, .9, .95, .99])\n",
    "\n",
    "print(\"Null price:\", null_price)\n",
    "print(\"Non-positive price (<=0):\", non_positive)\n",
    "summary"
   ]
  },
  {
   "cell_type": "markdown",
   "id": "77712c41-fd6d-4b26-b784-69cd52beba36",
   "metadata": {},
   "source": [
    "**Observation:** (revised): Prices have no nulls and 39 non-positive values; the upper tail is large relative to the median (P99 ≈ 1,385 vs. median ≈ 88; max ≈ 18,329)."
   ]
  },
  {
   "cell_type": "markdown",
   "id": "cb93a5c9-3c59-4351-9f59-99bf23359927",
   "metadata": {},
   "source": [
    "## Remove invalid prices (user_id subset)"
   ]
  },
  {
   "cell_type": "code",
   "execution_count": 11,
   "id": "0301df66-1fe6-4967-bf36-c6e7f6450f39",
   "metadata": {},
   "outputs": [
    {
     "name": "stdout",
     "output_type": "stream",
     "text": [
      "Removed non-positive prices: 39 (0.0069%)\n"
     ]
    }
   ],
   "source": [
    "before = len(df_uid)\n",
    "df_uid = df_uid[df_uid[\"price\"] > 0].reset_index(drop=True)\n",
    "removed = before - len(df_uid)\n",
    "print(\"Removed non-positive prices:\", removed, f\"({removed/before:.4%})\")"
   ]
  },
  {
   "cell_type": "markdown",
   "id": "fe61fce3-e4e6-4043-9521-6e2c5bdda313",
   "metadata": {},
   "source": [
    "Non-positive prices were negligible (39 rows; 0.0069%) and have been removed."
   ]
  },
  {
   "cell_type": "markdown",
   "id": "984bd205-2fe4-41d4-9404-ce512599dc80",
   "metadata": {},
   "source": [
    "## Standardize brand and category_code"
   ]
  },
  {
   "cell_type": "code",
   "execution_count": 14,
   "id": "5f77ea9a-bc36-4c69-a4e2-43bb1b40f974",
   "metadata": {},
   "outputs": [],
   "source": [
    "df_uid[\"brand\"] = df_uid[\"brand\"].str.lower().str.strip()\n",
    "df_uid[\"category_code\"] = df_uid[\"category_code\"].str.lower().str.strip()"
   ]
  },
  {
   "cell_type": "markdown",
   "id": "da48153d-fa05-4596-a2e5-cb00b267b2b9",
   "metadata": {},
   "source": [
    "## Backfill category_code from category_id"
   ]
  },
  {
   "cell_type": "code",
   "execution_count": 15,
   "id": "458a9c66-cd14-4407-ab8f-37d93ccdd323",
   "metadata": {},
   "outputs": [],
   "source": [
    "cat_map = (\n",
    "    df_uid.dropna(subset=[\"category_id\",\"category_code\"])\n",
    "          .groupby(\"category_id\")[\"category_code\"]\n",
    "          .agg(lambda s: s.value_counts().idxmax())\n",
    ")\n",
    "\n",
    "df_uid[\"category_code\"] = df_uid[\"category_code\"].fillna(df_uid[\"category_id\"].map(cat_map))\n",
    "df_uid[\"category_code\"] = df_uid[\"category_code\"].fillna(\"unknown\")\n",
    "df_uid[\"brand\"] = df_uid[\"brand\"].fillna(\"unknown\")"
   ]
  },
  {
   "cell_type": "markdown",
   "id": "7fc3ecd0-704a-48e2-84cf-7b36c5c16b14",
   "metadata": {},
   "source": [
    "## Missingness after fills (user_id subset)"
   ]
  },
  {
   "cell_type": "code",
   "execution_count": 16,
   "id": "b6545619-0803-4f1f-8c45-9f3dc767f489",
   "metadata": {},
   "outputs": [
    {
     "data": {
      "text/plain": [
       "brand            0.0\n",
       "category_id      0.0\n",
       "category_code    0.0\n",
       "dtype: float64"
      ]
     },
     "execution_count": 16,
     "metadata": {},
     "output_type": "execute_result"
    }
   ],
   "source": [
    "df_uid[[\"brand\",\"category_id\",\"category_code\"]].isna().mean().mul(100).round(2)"
   ]
  },
  {
   "cell_type": "markdown",
   "id": "601a8a7a-0526-4fbb-a33e-f5f848446d37",
   "metadata": {},
   "source": [
    "## Validate order -> user consistency "
   ]
  },
  {
   "cell_type": "code",
   "execution_count": 17,
   "id": "b8e4b1e4-2d75-4824-8aec-c81158305490",
   "metadata": {},
   "outputs": [
    {
     "name": "stdout",
     "output_type": "stream",
     "text": [
      "Orders with >1 user_id: 0\n"
     ]
    }
   ],
   "source": [
    "# Each order_id should belong to exactly one user_id\n",
    "users_per_order = df_uid.groupby(\"order_id\")[\"user_id\"].nunique()\n",
    "inconsistent_orders = (users_per_order > 1).sum()\n",
    "print(\"Orders with >1 user_id:\", inconsistent_orders)"
   ]
  },
  {
   "cell_type": "markdown",
   "id": "f970d329-852c-4be5-96d8-5621f47e9b79",
   "metadata": {},
   "source": [
    "## Build orders table"
   ]
  },
  {
   "cell_type": "code",
   "execution_count": 18,
   "id": "c5c8e44b-f650-4bbf-87f8-67be30a1269d",
   "metadata": {},
   "outputs": [
    {
     "data": {
      "text/plain": [
       "((400516, 8),\n",
       "               order_id              user_id                  order_dt  order_revenue  items  distinct_products  \\\n",
       " 0  2294359932054536986  1515915625441993984 2020-04-24 11:50:39+00:00     324.019989      2                  1   \n",
       " 1  2294444024058086220  1515915625447879434 2020-04-24 14:37:43+00:00     155.039993      2                  1   \n",
       " 2  2294584263154074236  1515915625443148002 2020-04-24 19:16:21+00:00     217.570007      1                  1   \n",
       " \n",
       "    distinct_categories  distinct_brands  \n",
       " 0                    1                1  \n",
       " 1                    1                1  \n",
       " 2                    1                1  )"
      ]
     },
     "execution_count": 18,
     "metadata": {},
     "output_type": "execute_result"
    }
   ],
   "source": [
    "# Helper to pick the most frequent user_id per order (in case of anomalies)\n",
    "def most_frequent(s):\n",
    "    return s.value_counts().idxmax()\n",
    "\n",
    "orders = (\n",
    "    df_uid.groupby(\"order_id\").agg(\n",
    "        user_id=(\"user_id\", most_frequent),\n",
    "        order_dt=(\"event_time\", \"max\"),\n",
    "        order_revenue=(\"price\", \"sum\"),\n",
    "        items=(\"product_id\", \"count\"),\n",
    "        distinct_products=(\"product_id\", \"nunique\"),\n",
    "        distinct_categories=(\"category_code\", \"nunique\"),\n",
    "        distinct_brands=(\"brand\", \"nunique\")\n",
    "    )\n",
    "    .reset_index()\n",
    ")\n",
    "\n",
    "orders.shape, orders.head(3)"
   ]
  },
  {
   "cell_type": "markdown",
   "id": "1d88f1ac-b40b-4896-87a3-c3e8f347c6c4",
   "metadata": {},
   "source": [
    "## Quick sanity on orders"
   ]
  },
  {
   "cell_type": "code",
   "execution_count": 19,
   "id": "9bd701dd-f423-43a2-bf27-092454998eb2",
   "metadata": {},
   "outputs": [
    {
     "name": "stdout",
     "output_type": "stream",
     "text": [
      "Zero/negative revenue orders: 0\n"
     ]
    },
    {
     "data": {
      "text/plain": [
       "count    400516.000000\n",
       "mean        293.369263\n",
       "std         397.076935\n",
       "min           0.020000\n",
       "50%         148.339996\n",
       "75%         393.500000\n",
       "90%         810.159973\n",
       "95%        1041.640015\n",
       "99%        1712.920044\n",
       "max       18699.029297\n",
       "Name: order_revenue, dtype: float64"
      ]
     },
     "execution_count": 19,
     "metadata": {},
     "output_type": "execute_result"
    }
   ],
   "source": [
    "print(\"Zero/negative revenue orders:\", (orders[\"order_revenue\"] <= 0).sum())\n",
    "orders[\"order_revenue\"].describe(percentiles=[.5,.75,.9,.95,.99])"
   ]
  },
  {
   "cell_type": "markdown",
   "id": "a3116cc9-3f01-432c-98a9-6abd7fc3df90",
   "metadata": {},
   "source": [
    "## Order revenue tail check"
   ]
  },
  {
   "cell_type": "code",
   "execution_count": 20,
   "id": "a2c4d701-aa81-47b7-8ba7-48b6aa716fb0",
   "metadata": {},
   "outputs": [
    {
     "data": {
      "text/plain": [
       "(0.950    1041.640015\n",
       " 0.990    1712.920044\n",
       " 0.995    2148.770105\n",
       " 0.999    3473.019691\n",
       " Name: order_revenue, dtype: float64,\n",
       " {'above_p99': 3990, 'above_p995': 2003, 'above_p999': 401})"
      ]
     },
     "execution_count": 20,
     "metadata": {},
     "output_type": "execute_result"
    }
   ],
   "source": [
    "q = orders[\"order_revenue\"].quantile([0.95, 0.99, 0.995, 0.999])\n",
    "tail_counts = {\n",
    "    \"above_p99\": (orders[\"order_revenue\"] > q.loc[0.99]).sum(),\n",
    "    \"above_p995\": (orders[\"order_revenue\"] > q.loc[0.995]).sum(),\n",
    "    \"above_p999\": (orders[\"order_revenue\"] > q.loc[0.999]).sum(),\n",
    "}\n",
    "q, tail_counts"
   ]
  },
  {
   "cell_type": "markdown",
   "id": "5e34f4e2-0fed-4cc8-9db9-7d19d8aa3ffd",
   "metadata": {},
   "source": [
    "## Winsorize order_revenue at P99.5"
   ]
  },
  {
   "cell_type": "code",
   "execution_count": 21,
   "id": "1de7c583-6e09-46de-9456-34d43f45be56",
   "metadata": {},
   "outputs": [
    {
     "data": {
      "text/html": [
       "<div>\n",
       "<style scoped>\n",
       "    .dataframe tbody tr th:only-of-type {\n",
       "        vertical-align: middle;\n",
       "    }\n",
       "\n",
       "    .dataframe tbody tr th {\n",
       "        vertical-align: top;\n",
       "    }\n",
       "\n",
       "    .dataframe thead th {\n",
       "        text-align: right;\n",
       "    }\n",
       "</style>\n",
       "<table border=\"1\" class=\"dataframe\">\n",
       "  <thead>\n",
       "    <tr style=\"text-align: right;\">\n",
       "      <th></th>\n",
       "      <th>order_revenue</th>\n",
       "      <th>order_revenue_cap</th>\n",
       "    </tr>\n",
       "  </thead>\n",
       "  <tbody>\n",
       "    <tr>\n",
       "      <th>count</th>\n",
       "      <td>400516.000000</td>\n",
       "      <td>400516.000000</td>\n",
       "    </tr>\n",
       "    <tr>\n",
       "      <th>mean</th>\n",
       "      <td>293.369263</td>\n",
       "      <td>289.277483</td>\n",
       "    </tr>\n",
       "    <tr>\n",
       "      <th>std</th>\n",
       "      <td>397.076935</td>\n",
       "      <td>365.851803</td>\n",
       "    </tr>\n",
       "    <tr>\n",
       "      <th>min</th>\n",
       "      <td>0.020000</td>\n",
       "      <td>0.020000</td>\n",
       "    </tr>\n",
       "    <tr>\n",
       "      <th>50%</th>\n",
       "      <td>148.339996</td>\n",
       "      <td>148.339996</td>\n",
       "    </tr>\n",
       "    <tr>\n",
       "      <th>75%</th>\n",
       "      <td>393.500000</td>\n",
       "      <td>393.500000</td>\n",
       "    </tr>\n",
       "    <tr>\n",
       "      <th>90%</th>\n",
       "      <td>810.159973</td>\n",
       "      <td>810.159973</td>\n",
       "    </tr>\n",
       "    <tr>\n",
       "      <th>95%</th>\n",
       "      <td>1041.640015</td>\n",
       "      <td>1041.640015</td>\n",
       "    </tr>\n",
       "    <tr>\n",
       "      <th>99%</th>\n",
       "      <td>1712.920044</td>\n",
       "      <td>1712.920044</td>\n",
       "    </tr>\n",
       "    <tr>\n",
       "      <th>max</th>\n",
       "      <td>18699.029297</td>\n",
       "      <td>2148.770105</td>\n",
       "    </tr>\n",
       "  </tbody>\n",
       "</table>\n",
       "</div>"
      ],
      "text/plain": [
       "       order_revenue  order_revenue_cap\n",
       "count  400516.000000      400516.000000\n",
       "mean      293.369263         289.277483\n",
       "std       397.076935         365.851803\n",
       "min         0.020000           0.020000\n",
       "50%       148.339996         148.339996\n",
       "75%       393.500000         393.500000\n",
       "90%       810.159973         810.159973\n",
       "95%      1041.640015        1041.640015\n",
       "99%      1712.920044        1712.920044\n",
       "max     18699.029297        2148.770105"
      ]
     },
     "execution_count": 21,
     "metadata": {},
     "output_type": "execute_result"
    }
   ],
   "source": [
    "cap = orders[\"order_revenue\"].quantile(0.995)\n",
    "orders[\"order_revenue_cap\"] = orders[\"order_revenue\"].clip(upper=cap)\n",
    "\n",
    "orders[[\"order_revenue\",\"order_revenue_cap\"]].describe(percentiles=[.5,.75,.9,.95,.99])"
   ]
  },
  {
   "cell_type": "code",
   "execution_count": null,
   "id": "2826ce99-57c6-4015-9802-f2e5cf259fe8",
   "metadata": {},
   "outputs": [],
   "source": []
  }
 ],
 "metadata": {
  "kernelspec": {
   "display_name": "Python 3 (ipykernel)",
   "language": "python",
   "name": "python3"
  },
  "language_info": {
   "codemirror_mode": {
    "name": "ipython",
    "version": 3
   },
   "file_extension": ".py",
   "mimetype": "text/x-python",
   "name": "python",
   "nbconvert_exporter": "python",
   "pygments_lexer": "ipython3",
   "version": "3.12.4"
  }
 },
 "nbformat": 4,
 "nbformat_minor": 5
}
